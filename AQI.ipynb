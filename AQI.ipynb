{
  "nbformat": 4,
  "nbformat_minor": 0,
  "metadata": {
    "colab": {
      "provenance": []
    },
    "kernelspec": {
      "name": "python3",
      "display_name": "Python 3"
    },
    "language_info": {
      "name": "python"
    }
  },
  "cells": [
    {
      "cell_type": "code",
      "execution_count": null,
      "metadata": {
        "colab": {
          "base_uri": "https://localhost:8080/"
        },
        "id": "kzlZQleI3vmm",
        "outputId": "3b8137b9-ca1b-45a7-b602-6c2114ddd7e0"
      },
      "outputs": [
        {
          "output_type": "stream",
          "name": "stdout",
          "text": [
            "Index(['Date', 'Time', 'CO(GT)', 'PT08.S1(CO)', 'NMHC(GT)', 'C6H6(GT)',\n",
            "       'PT08.S2(NMHC)', 'NOx(GT)', 'PT08.S3(NOx)', 'NO2(GT)', 'PT08.S4(NO2)',\n",
            "       'PT08.S5(O3)', 'T', 'RH', 'AH'],\n",
            "      dtype='object')\n",
            "        Date      Time  CO(GT)  PT08.S1(CO)  NMHC(GT)  C6H6(GT)  \\\n",
            "0  3/10/2004  18:00:00     2.6         1360       150      11.9   \n",
            "1  3/10/2004  19:00:00     2.0         1292       112       9.4   \n",
            "2  3/10/2004  20:00:00     2.2         1402        88       9.0   \n",
            "3  3/10/2004  21:00:00     2.2         1376        80       9.2   \n",
            "4  3/10/2004  22:00:00     1.6         1272        51       6.5   \n",
            "\n",
            "   PT08.S2(NMHC)  NOx(GT)  PT08.S3(NOx)  NO2(GT)  PT08.S4(NO2)  PT08.S5(O3)  \\\n",
            "0           1046      166          1056      113          1692         1268   \n",
            "1            955      103          1174       92          1559          972   \n",
            "2            939      131          1140      114          1555         1074   \n",
            "3            948      172          1092      122          1584         1203   \n",
            "4            836      131          1205      116          1490         1110   \n",
            "\n",
            "      T    RH      AH  \n",
            "0  13.6  48.9  0.7578  \n",
            "1  13.3  47.7  0.7255  \n",
            "2  11.9  54.0  0.7502  \n",
            "3  11.0  60.0  0.7867  \n",
            "4  11.2  59.6  0.7888  \n"
          ]
        }
      ],
      "source": [
        "# Import necessary libraries\n",
        "import pandas as pd\n",
        "import numpy as np\n",
        "import matplotlib.pyplot as plt\n",
        "from sklearn.model_selection import train_test_split, KFold, cross_val_score\n",
        "from sklearn.preprocessing import StandardScaler\n",
        "from sklearn.linear_model import LogisticRegression\n",
        "from sklearn.ensemble import RandomForestClassifier, GradientBoostingClassifier\n",
        "from sklearn.metrics import accuracy_score\n",
        "import pandas as pd\n",
        "\n",
        "# Reload the dataset with proper delimiter\n",
        "url = \"https://archive.ics.uci.edu/static/public/360/data.csv\"\n",
        "dataset = pd.read_csv(url, delimiter=',', header=0)\n",
        "\n",
        "# Check the columns again to ensure they are properly split\n",
        "print(dataset.columns)\n",
        "\n",
        "\n",
        "# Check the first few rows of the dataset\n",
        "print(dataset.head())\n"
      ]
    },
    {
      "cell_type": "code",
      "source": [
        "# Replace the invalid '-200' values with NaN (this represents missing data)\n",
        "dataset.replace(-200, np.nan, inplace=True)\n",
        "\n",
        "# Checking for missing values after replacing -200 with NaN\n",
        "print(\"Missing values after replacing -200 with NaN:\")\n",
        "print(dataset.isnull().sum())\n",
        "\n",
        "# Option 1: Drop rows with any NaN values (you can also fill them, but for now, we'll drop)\n",
        "dataset.dropna(inplace=True)\n",
        "\n",
        "# Option 2: Fill missing values with the mean or median (if you prefer to fill instead of dropping)\n",
        "# dataset.fillna(dataset.mean(), inplace=True)\n",
        "\n",
        "# Check if any missing values remain\n",
        "print(\"Missing values after cleaning:\")\n",
        "print(dataset.isnull().sum())\n"
      ],
      "metadata": {
        "colab": {
          "base_uri": "https://localhost:8080/"
        },
        "id": "w_RF8PAE7u00",
        "outputId": "96d5d2c2-3a8a-4623-91ae-951cff920a8b"
      },
      "execution_count": null,
      "outputs": [
        {
          "output_type": "stream",
          "name": "stdout",
          "text": [
            "Missing values after replacing -200 with NaN:\n",
            "Date                0\n",
            "Time                0\n",
            "CO(GT)           1683\n",
            "PT08.S1(CO)       366\n",
            "NMHC(GT)         8443\n",
            "C6H6(GT)          366\n",
            "PT08.S2(NMHC)     366\n",
            "NOx(GT)          1639\n",
            "PT08.S3(NOx)      366\n",
            "NO2(GT)          1642\n",
            "PT08.S4(NO2)      366\n",
            "PT08.S5(O3)       366\n",
            "T                 366\n",
            "RH                366\n",
            "AH                366\n",
            "dtype: int64\n",
            "Missing values after cleaning:\n",
            "Date             0\n",
            "Time             0\n",
            "CO(GT)           0\n",
            "PT08.S1(CO)      0\n",
            "NMHC(GT)         0\n",
            "C6H6(GT)         0\n",
            "PT08.S2(NMHC)    0\n",
            "NOx(GT)          0\n",
            "PT08.S3(NOx)     0\n",
            "NO2(GT)          0\n",
            "PT08.S4(NO2)     0\n",
            "PT08.S5(O3)      0\n",
            "T                0\n",
            "RH               0\n",
            "AH               0\n",
            "dtype: int64\n"
          ]
        }
      ]
    },
    {
      "cell_type": "code",
      "source": [
        "# Drop non-numeric columns like 'Date' and 'Time'\n",
        "dataset = dataset.drop(columns=['Date', 'Time'])\n",
        "\n",
        "# Ensure all remaining columns are numeric (if any are not, they will be ignored)\n",
        "dataset = dataset.apply(pd.to_numeric, errors='coerce')\n",
        "\n",
        "# Set up the features (X) and target variable (y)\n",
        "X = dataset.drop('CO(GT)', axis=1)  # All columns except 'CO(GT)' as features\n",
        "y = dataset['CO(GT)']  # 'CO(GT)' as the target variable\n",
        "\n",
        "# Split the data into training and testing sets (80% training, 20% testing)\n",
        "from sklearn.model_selection import train_test_split\n",
        "X_train, X_test, y_train, y_test = train_test_split(X, y, test_size=0.2, random_state=42)\n",
        "\n",
        "# Scale the features using StandardScaler (optional but recommended for some algorithms)\n",
        "from sklearn.preprocessing import StandardScaler\n",
        "scaler = StandardScaler()\n",
        "X_train = scaler.fit_transform(X_train)\n",
        "X_test = scaler.transform(X_test)\n",
        "\n",
        "# Check the shapes of the split data\n",
        "print(f\"X_train shape: {X_train.shape}\")\n",
        "print(f\"X_test shape: {X_test.shape}\")\n"
      ],
      "metadata": {
        "colab": {
          "base_uri": "https://localhost:8080/"
        },
        "id": "KbvQQUP670-Z",
        "outputId": "d0ec30f2-edb8-460b-8c7b-24236a1a4a37"
      },
      "execution_count": null,
      "outputs": [
        {
          "output_type": "stream",
          "name": "stdout",
          "text": [
            "X_train shape: (661, 12)\n",
            "X_test shape: (166, 12)\n"
          ]
        }
      ]
    },
    {
      "cell_type": "code",
      "source": [
        "# List of models to test\n",
        "from sklearn.linear_model import LinearRegression\n",
        "from sklearn.svm import SVR\n",
        "from sklearn.tree import DecisionTreeRegressor\n",
        "from sklearn.ensemble import RandomForestRegressor\n",
        "\n",
        "models = [\n",
        "    ('Linear Regression', LinearRegression()),\n",
        "    ('Support Vector Regression', SVR()),\n",
        "    ('Decision Tree Regressor', DecisionTreeRegressor()),\n",
        "    ('Random Forest Regressor', RandomForestRegressor())\n",
        "]\n",
        "\n",
        "# Evaluate each model using cross-validation\n",
        "from sklearn.model_selection import cross_val_score, KFold\n",
        "\n",
        "results = []\n",
        "names = []\n",
        "\n",
        "# KFold cross-validation\n",
        "kfold = KFold(n_splits=10, random_state=42, shuffle=True)\n",
        "\n",
        "# Iterate over models and evaluate them\n",
        "for name, model in models:\n",
        "    cv_results = cross_val_score(model, X_train, y_train, cv=kfold, scoring='neg_mean_absolute_error')  # MAE for regression\n",
        "    results.append(cv_results)\n",
        "    names.append(name)\n",
        "\n",
        "# Print out results\n",
        "for name, result in zip(names, results):\n",
        "    print(f\"{name}: Mean MAE = {result.mean():.4f}, Standard Deviation = {result.std():.4f}\")\n"
      ],
      "metadata": {
        "colab": {
          "base_uri": "https://localhost:8080/"
        },
        "id": "amkD2gWa72wb",
        "outputId": "c5d80220-792f-41a4-ac22-5f9977e8a5fa"
      },
      "execution_count": null,
      "outputs": [
        {
          "output_type": "stream",
          "name": "stdout",
          "text": [
            "Linear Regression: Mean MAE = -0.1662, Standard Deviation = 0.0181\n",
            "Support Vector Regression: Mean MAE = -0.1549, Standard Deviation = 0.0208\n",
            "Decision Tree Regressor: Mean MAE = -0.2477, Standard Deviation = 0.0197\n",
            "Random Forest Regressor: Mean MAE = -0.1771, Standard Deviation = 0.0227\n"
          ]
        }
      ]
    },
    {
      "cell_type": "code",
      "source": [
        "# Boxplot to compare the accuracy scores of the models\n",
        "plt.figure(figsize=(10, 6))\n",
        "plt.boxplot(results, labels=names)\n",
        "plt.title('Algorithm Comparison')\n",
        "plt.ylabel('Accuracy')\n",
        "plt.show()\n"
      ],
      "metadata": {
        "colab": {
          "base_uri": "https://localhost:8080/",
          "height": 545
        },
        "id": "5fmOvjBg75a8",
        "outputId": "2cecbbbb-25d7-4bfe-f149-c68e80259742"
      },
      "execution_count": null,
      "outputs": [
        {
          "output_type": "display_data",
          "data": {
            "text/plain": [
              "<Figure size 1000x600 with 1 Axes>"
            ],
            "image/png": "[encoded data removed]"
          },
          "metadata": {}
        }
      ]
    },
    {
      "cell_type": "code",
      "source": [
        "import joblib\n",
        "from sklearn.model_selection import cross_val_score, KFold\n",
        "\n",
        "# List of models to test\n",
        "models = [\n",
        "    ('Linear Regression', LinearRegression()),\n",
        "    ('Support Vector Regression', SVR()),\n",
        "    ('Decision Tree Regressor', DecisionTreeRegressor()),\n",
        "    ('Random Forest Regressor', RandomForestRegressor())\n",
        "]\n",
        "\n",
        "# KFold cross-validation\n",
        "kfold = KFold(n_splits=10, random_state=42, shuffle=True)\n",
        "\n",
        "# Initialize variables to store best model and its score\n",
        "best_model = None\n",
        "best_score = float('inf')  # Initialize with a very high score (for MAE, lower is better)\n",
        "\n",
        "# Iterate over models and evaluate them\n",
        "for name, model in models:\n",
        "    cv_results = cross_val_score(model, X_train, y_train, cv=kfold, scoring='neg_mean_absolute_error')  # MAE for regression\n",
        "    mean_score = cv_results.mean()\n",
        "\n",
        "    # Check if this model has the best score (lower is better)\n",
        "    if mean_score < best_score:\n",
        "        best_score = mean_score\n",
        "        best_model = model\n",
        "        best_model_name = name\n",
        "\n",
        "# Train the best model on the entire training data\n",
        "best_model.fit(X_train, y_train)\n",
        "\n",
        "# Save the best model using joblib\n",
        "joblib.dump(best_model, 'best_model.pkl')\n",
        "\n",
        "print(f\"Best Model: {best_model_name}\")\n",
        "print(f\"Best MAE Score: {-best_score:.4f}\")  # Convert back to positive MAE\n"
      ],
      "metadata": {
        "colab": {
          "base_uri": "https://localhost:8080/"
        },
        "id": "Bfv15bhH77En",
        "outputId": "c7ceed2b-1d77-4c8a-946b-5fa4f952035f"
      },
      "execution_count": null,
      "outputs": [
        {
          "output_type": "stream",
          "name": "stdout",
          "text": [
            "Best Model: Decision Tree Regressor\n",
            "Best MAE Score: 0.2441\n"
          ]
        }
      ]
    },
    {
      "cell_type": "code",
      "source": [
        "import pandas as pd\n",
        "import numpy as np\n",
        "\n",
        "# Define a predefined input (ensure the features are in the same order as in X_train)\n",
        "# For example, let's assume the features are ['PT08.S1(CO)', 'NMHC(GT)', 'C6H6(GT)', ...]\n",
        "# Make sure the input matches the number of features in X_train\n",
        "predefined_input = pd.DataFrame({\n",
        "    'PT08.S1(CO)': [5.1],  # Replace with actual value\n",
        "    'NMHC(GT)': [0.4],     # Replace with actual value\n",
        "    'C6H6(GT)': [0.3],     # Replace with actual value\n",
        "    'PT08.S2(NMHC)': [1.2],  # Replace with actual value\n",
        "    'NOx(GT)': [2.0],      # Replace with actual value\n",
        "    'PT08.S3(NOx)': [0.1],  # Replace with actual value\n",
        "    'NO2(GT)': [1.5],      # Replace with actual value\n",
        "    'PT08.S4(NO2)': [2.1],  # Replace with actual value\n",
        "    'PT08.S5(O3)': [1.0],   # Replace with actual value\n",
        "    'T': [0.8],             # Replace with actual value\n",
        "    'RH': [1.6],            # Replace with actual value\n",
        "    'AH': [20.5]            # Replace with actual value\n",
        "})\n",
        "\n",
        "# Scale the input data (use the same scaler that was used on the training data)\n",
        "predefined_input_scaled = scaler.transform(predefined_input)\n",
        "\n",
        "# Make a prediction using the best model\n",
        "prediction = best_model.predict(predefined_input_scaled)\n",
        "\n",
        "# Output the prediction\n",
        "print(f\"Prediction: {prediction[0]}\")\n"
      ],
      "metadata": {
        "colab": {
          "base_uri": "https://localhost:8080/"
        },
        "id": "Z33CjA5i9SvH",
        "outputId": "34bb3e83-d9b3-429a-f339-516a0fd604fb"
      },
      "execution_count": null,
      "outputs": [
        {
          "output_type": "stream",
          "name": "stdout",
          "text": [
            "Prediction: 0.3\n"
          ]
        }
      ]
    },
    {
      "cell_type": "code",
      "source": [
        "from google.colab import drive\n",
        "drive.mount('/content/drive')\n"
      ],
      "metadata": {
        "colab": {
          "base_uri": "https://localhost:8080/"
        },
        "id": "Ol5JNd___DbH",
        "outputId": "50155984-da01-4de0-d2c1-6ed602687ed9"
      },
      "execution_count": null,
      "outputs": [
        {
          "output_type": "stream",
          "name": "stdout",
          "text": [
            "Mounted at /content/drive\n"
          ]
        }
      ]
    },
    {
      "cell_type": "code",
      "source": [
        "# Assuming your path is something like 'mydrive-aadit_b12' inside Google Drive\n",
        "path = '/content/drive/MyDrive/Colab Notebooks/best_model.sav'\n",
        "\n",
        "import joblib\n",
        "joblib.dump(best_model, path)\n"
      ],
      "metadata": {
        "colab": {
          "base_uri": "https://localhost:8080/"
        },
        "id": "e-hIulzW-O0V",
        "outputId": "6ba4ebe5-aeb9-4506-ed44-f4e8969e73a4"
      },
      "execution_count": null,
      "outputs": [
        {
          "output_type": "execute_result",
          "data": {
            "text/plain": [
              "['/content/drive/MyDrive/Colab Notebooks/best_model.sav']"
            ]
          },
          "metadata": {},
          "execution_count": 11
        }
      ]
    }
  ]
}